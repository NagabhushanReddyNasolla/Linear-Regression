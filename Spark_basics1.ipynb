{
  "nbformat": 4,
  "nbformat_minor": 0,
  "metadata": {
    "colab": {
      "provenance": [],
      "authorship_tag": "ABX9TyM1xxFdogkTPEBTD2mlsWWW",
      "include_colab_link": true
    },
    "kernelspec": {
      "name": "python3",
      "display_name": "Python 3"
    },
    "language_info": {
      "name": "python"
    }
  },
  "cells": [
    {
      "cell_type": "markdown",
      "metadata": {
        "id": "view-in-github",
        "colab_type": "text"
      },
      "source": [
        "<a href=\"https://colab.research.google.com/github/NagabhushanReddyNasolla/Linear-Regression/blob/main/Spark_basics1.ipynb\" target=\"_parent\"><img src=\"https://colab.research.google.com/assets/colab-badge.svg\" alt=\"Open In Colab\"/></a>"
      ]
    },
    {
      "cell_type": "code",
      "execution_count": 1,
      "metadata": {
        "colab": {
          "base_uri": "https://localhost:8080/"
        },
        "id": "wNWbXYGXBj1c",
        "outputId": "5e120225-bad8-48a9-a0f5-2a61eb58401a"
      },
      "outputs": [
        {
          "output_type": "stream",
          "name": "stdout",
          "text": [
            "Requirement already satisfied: pyspark in /usr/local/lib/python3.11/dist-packages (3.5.4)\n",
            "Requirement already satisfied: py4j==0.10.9.7 in /usr/local/lib/python3.11/dist-packages (from pyspark) (0.10.9.7)\n"
          ]
        }
      ],
      "source": [
        "# prompt: !pip install pyspark\n",
        "\n",
        "!pip install pyspark\n"
      ]
    },
    {
      "cell_type": "code",
      "source": [
        "from pyspark.sql import SparkSession\n",
        "from pyspark.sql.functions import *\n",
        "from pyspark.sql.types import *\n",
        "\n",
        "spark = SparkSession.builder.appName('Spark_test_App').getOrCreate()\n"
      ],
      "metadata": {
        "id": "I7XDMqwXBqRF"
      },
      "execution_count": 5,
      "outputs": []
    },
    {
      "cell_type": "code",
      "source": [
        "data =[\n",
        "    (100,\"emp_name1\"),\n",
        "    (101,\"emp_name2\"),\n",
        "    (102,\"emp_name3\"),\n",
        "    (103,\"emp_name4\"),\n",
        "    (104,\"emp_name5\"),\n",
        "]"
      ],
      "metadata": {
        "id": "yh7ZwofABqNg"
      },
      "execution_count": 6,
      "outputs": []
    },
    {
      "cell_type": "code",
      "source": [
        "columns =['emp_id',\"emp_name\"]"
      ],
      "metadata": {
        "id": "TQapVm3VBqLh"
      },
      "execution_count": 7,
      "outputs": []
    },
    {
      "cell_type": "code",
      "source": [
        "df = spark.createDataFrame(data=data,schema = columns)"
      ],
      "metadata": {
        "id": "R8ecy7LqBqJF"
      },
      "execution_count": 8,
      "outputs": []
    },
    {
      "cell_type": "code",
      "source": [
        "df.show()"
      ],
      "metadata": {
        "colab": {
          "base_uri": "https://localhost:8080/"
        },
        "id": "r7iGfj3iBqG6",
        "outputId": "eb3a997a-fd9d-4502-eb24-bf2d32eca857"
      },
      "execution_count": 9,
      "outputs": [
        {
          "output_type": "stream",
          "name": "stdout",
          "text": [
            "+------+---------+\n",
            "|emp_id| emp_name|\n",
            "+------+---------+\n",
            "|   100|emp_name1|\n",
            "|   101|emp_name2|\n",
            "|   102|emp_name3|\n",
            "|   103|emp_name4|\n",
            "|   104|emp_name5|\n",
            "+------+---------+\n",
            "\n"
          ]
        }
      ]
    },
    {
      "cell_type": "code",
      "source": [],
      "metadata": {
        "id": "uSL79tAqBqFr"
      },
      "execution_count": null,
      "outputs": []
    },
    {
      "cell_type": "code",
      "source": [],
      "metadata": {
        "id": "MoKNo5JVBqCW"
      },
      "execution_count": null,
      "outputs": []
    },
    {
      "cell_type": "code",
      "source": [],
      "metadata": {
        "id": "TuOpCoZWBpxW"
      },
      "execution_count": null,
      "outputs": []
    }
  ]
}